{
 "cells": [
  {
   "cell_type": "code",
   "execution_count": 1,
   "id": "27f5f1f6",
   "metadata": {},
   "outputs": [],
   "source": [
    "import Statistics"
   ]
  },
  {
   "cell_type": "code",
   "execution_count": 2,
   "id": "baa9aacf",
   "metadata": {},
   "outputs": [
    {
     "data": {
      "text/plain": [
       "2000-element Vector{Int64}:\n",
       "  199\n",
       "  203\n",
       "  200\n",
       "  201\n",
       "  196\n",
       "  195\n",
       "  196\n",
       "  214\n",
       "  227\n",
       "  225\n",
       "  229\n",
       "  260\n",
       "  246\n",
       "    ⋮\n",
       " 2346\n",
       " 2354\n",
       " 2350\n",
       " 2323\n",
       " 2320\n",
       " 2313\n",
       " 2315\n",
       " 2314\n",
       " 2316\n",
       " 2332\n",
       " 2338\n",
       " 2341"
      ]
     },
     "execution_count": 2,
     "metadata": {},
     "output_type": "execute_result"
    }
   ],
   "source": [
    "depths = zeros(Int64, 0)\n",
    "open(\"../data/input_1.txt\") do file\n",
    "    s = read(file, String)\n",
    "    append!(depths, parse.(Int, split(s, r\"\\n|\\r\\n\")))\n",
    "end"
   ]
  },
  {
   "cell_type": "code",
   "execution_count": 39,
   "id": "b996689b",
   "metadata": {},
   "outputs": [
    {
     "name": "stdout",
     "output_type": "stream",
     "text": [
      "Answer to part 1 is: 1154"
     ]
    }
   ],
   "source": [
    "# PART 1\n",
    "depth_inc_counter = 0\n",
    "for i in zip(depths[1:end-1],depths[2:end])\n",
    "    if i[2] > i[1]\n",
    "        depth_inc_counter += 1\n",
    "    end\n",
    "end\n",
    "print(\"Answer to part 1 is: \", depth_inc_counter)"
   ]
  },
  {
   "cell_type": "code",
   "execution_count": 54,
   "id": "215cc9fd",
   "metadata": {},
   "outputs": [],
   "source": [
    "# PART 2\n",
    "windows = collect(zip(depths[1:end-2], depths[2:end-1], depths[3:end]))\n",
    "depth_window_tuples = zip(windows[1:end-1], windows[2:end])\n",
    "\n",
    "depth_inc_counter = 0    \n",
    "for i in depth_window_tuples\n",
    "    if Statistics.mean(i[2]) > Statistics.mean(i[1])\n",
    "        depth_inc_counter += 1\n",
    "    end\n",
    "end\n",
    "\n",
    "print(\"Answer to part 2 is: \", depth_inc_counter)"
   ]
  },
  {
   "cell_type": "code",
   "execution_count": 55,
   "id": "985d90ed",
   "metadata": {},
   "outputs": [
    {
     "data": {
      "text/plain": [
       "1127"
      ]
     },
     "execution_count": 55,
     "metadata": {},
     "output_type": "execute_result"
    }
   ],
   "source": []
  },
  {
   "cell_type": "code",
   "execution_count": null,
   "id": "c94af9ce",
   "metadata": {},
   "outputs": [],
   "source": []
  }
 ],
 "metadata": {
  "kernelspec": {
   "display_name": "Julia 1.7.0",
   "language": "julia",
   "name": "julia-1.7"
  },
  "language_info": {
   "file_extension": ".jl",
   "mimetype": "application/julia",
   "name": "julia",
   "version": "1.7.0"
  }
 },
 "nbformat": 4,
 "nbformat_minor": 5
}
