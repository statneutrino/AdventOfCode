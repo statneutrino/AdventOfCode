{
 "cells": [
  {
   "cell_type": "code",
   "execution_count": 2,
   "id": "6402cda7",
   "metadata": {},
   "outputs": [
    {
     "ename": "ModuleNotFoundError",
     "evalue": "No module named 'benchmark'",
     "output_type": "error",
     "traceback": [
      "\u001b[0;31m---------------------------------------------------------------------------\u001b[0m",
      "\u001b[0;31mModuleNotFoundError\u001b[0m                       Traceback (most recent call last)",
      "\u001b[0;32m<ipython-input-2-d931577d02c5>\u001b[0m in \u001b[0;36m<module>\u001b[0;34m\u001b[0m\n\u001b[1;32m      1\u001b[0m \u001b[0;32mimport\u001b[0m \u001b[0mnumpy\u001b[0m \u001b[0;32mas\u001b[0m \u001b[0mnp\u001b[0m\u001b[0;34m\u001b[0m\u001b[0;34m\u001b[0m\u001b[0m\n\u001b[1;32m      2\u001b[0m \u001b[0;32mfrom\u001b[0m \u001b[0mcollections\u001b[0m \u001b[0;32mimport\u001b[0m \u001b[0mCounter\u001b[0m\u001b[0;34m\u001b[0m\u001b[0;34m\u001b[0m\u001b[0m\n\u001b[0;32m----> 3\u001b[0;31m \u001b[0;32mimport\u001b[0m \u001b[0mbenchmark\u001b[0m\u001b[0;34m\u001b[0m\u001b[0;34m\u001b[0m\u001b[0m\n\u001b[0m",
      "\u001b[0;31mModuleNotFoundError\u001b[0m: No module named 'benchmark'"
     ]
    }
   ],
   "source": [
    "import numpy as np\n",
    "from collections import Counter\n",
    "import benchmark"
   ]
  },
  {
   "cell_type": "code",
   "execution_count": 30,
   "id": "db169027",
   "metadata": {},
   "outputs": [],
   "source": [
    "with open(\"../data/input_6.txt\") as file:\n",
    "   initial_fish = file.read().split(',')"
   ]
  },
  {
   "cell_type": "code",
   "execution_count": 31,
   "id": "52d18098",
   "metadata": {},
   "outputs": [],
   "source": [
    "# Part 1\n",
    "class LanternFish:\n",
    "    def __init__(self, intial_fish):\n",
    "        self.fish_states = np.array(initial_fish, dtype=int)\n",
    "        self.total_fish = len(self.fish_states)\n",
    "    \n",
    "    def next_epoch(self, days):\n",
    "        for i in range(days):\n",
    "            self.fish_states -= np.ones(self.total_fish, dtype=int)\n",
    "            index_fish_breeding = np.where(self.fish_states == -1)[0]\n",
    "            if index_fish_breeding.size >= 1:\n",
    "                self.fish_states[index_fish_breeding] = 6\n",
    "                self.fish_states = np.append(self.fish_states, [8] * index_fish_breeding.size)\n",
    "            self.total_fish = len(self.fish_states)\n",
    "        return self.fish_states\n",
    "            "
   ]
  },
  {
   "cell_type": "code",
   "execution_count": 32,
   "id": "909d45b6",
   "metadata": {},
   "outputs": [],
   "source": [
    "l = LanternFish(initial_fish)"
   ]
  },
  {
   "cell_type": "code",
   "execution_count": 33,
   "id": "0fce0f70",
   "metadata": {},
   "outputs": [
    {
     "data": {
      "text/plain": [
       "array([4, 2, 4, 1, 5, 1, 2, 2, 4, 1, 1, 2, 2, 2, 4, 4, 1, 2, 1, 1, 4, 1,\n",
       "       2, 1, 2, 2, 2, 2, 5, 2, 2, 3, 1, 4, 4, 4, 1, 2, 3, 4, 4, 5, 4, 3,\n",
       "       5, 1, 2, 5, 1, 1, 5, 5, 1, 4, 4, 5, 1, 3, 1, 4, 5, 5, 5, 4, 1, 2,\n",
       "       3, 4, 2, 1, 2, 1, 2, 2, 1, 5, 5, 1, 1, 1, 1, 5, 2, 2, 2, 4, 2, 4,\n",
       "       2, 4, 2, 1, 2, 1, 2, 4, 2, 4, 1, 3, 5, 5, 2, 4, 4, 2, 2, 2, 2, 3,\n",
       "       3, 2, 1, 1, 1, 1, 4, 3, 2, 5, 4, 3, 5, 3, 1, 5, 5, 2, 4, 1, 1, 2,\n",
       "       1, 3, 5, 1, 5, 3, 1, 3, 1, 4, 5, 1, 1, 3, 2, 1, 1, 1, 5, 2, 1, 2,\n",
       "       4, 2, 3, 3, 2, 3, 5, 1, 5, 1, 2, 1, 5, 2, 4, 1, 2, 4, 4, 1, 5, 1,\n",
       "       1, 5, 2, 2, 5, 5, 3, 1, 2, 2, 1, 1, 4, 1, 5, 4, 5, 5, 2, 2, 1, 1,\n",
       "       2, 5, 4, 3, 2, 2, 5, 4, 2, 5, 4, 4, 2, 3, 1, 1, 1, 5, 5, 4, 5, 3,\n",
       "       2, 5, 3, 4, 5, 1, 4, 1, 1, 3, 4, 4, 1, 1, 5, 1, 4, 1, 2, 1, 4, 1,\n",
       "       1, 3, 1, 5, 2, 5, 1, 5, 2, 5, 2, 5, 4, 1, 1, 4, 4, 2, 3, 1, 5, 2,\n",
       "       5, 1, 5, 2, 1, 1, 1, 2, 1, 1, 1, 4, 4, 5, 4, 4, 1, 4, 2, 2, 2, 5,\n",
       "       3, 2, 4, 4, 5, 5, 1, 1, 1, 1, 3, 1, 2, 1])"
      ]
     },
     "execution_count": 33,
     "metadata": {},
     "output_type": "execute_result"
    }
   ],
   "source": [
    "l.fish_states"
   ]
  },
  {
   "cell_type": "code",
   "execution_count": 34,
   "id": "39869408",
   "metadata": {},
   "outputs": [],
   "source": [
    "# Part 2\n",
    "counts = dict()\n",
    "for i in map(int, initial_fish):\n",
    "    counts[i] = counts.get(i, 0) + 1\n",
    "for i in set(range(9)).difference(set(counts.keys())):\n",
    "    counts[i] = 0"
   ]
  },
  {
   "cell_type": "code",
   "execution_count": 35,
   "id": "b1e58335",
   "metadata": {},
   "outputs": [],
   "source": [
    "def simulate_lantern(fish_state_dict, epochs):\n",
    "    old_states = fish_state_dict.copy()\n",
    "    for t in range(epochs):\n",
    "        new_states = dict()\n",
    "        for i in range(9):\n",
    "            if i == 6:\n",
    "                new_states[i] = old_states[7] + old_states[0]\n",
    "            elif i == 8:\n",
    "                new_states[i] = old_states[0]\n",
    "            else:\n",
    "                new_states[i] = old_states[i+1]\n",
    "        old_states = new_states.copy()\n",
    "    return new_states"
   ]
  },
  {
   "cell_type": "code",
   "execution_count": 36,
   "id": "81d4cafd",
   "metadata": {},
   "outputs": [
    {
     "data": {
      "text/plain": [
       "1570"
      ]
     },
     "execution_count": 36,
     "metadata": {},
     "output_type": "execute_result"
    }
   ],
   "source": [
    "sum(simulate_lantern(counts, 18).values())"
   ]
  },
  {
   "cell_type": "code",
   "execution_count": 38,
   "id": "b55cc2fb",
   "metadata": {},
   "outputs": [
    {
     "data": {
      "text/plain": [
       "1609314870967"
      ]
     },
     "execution_count": 38,
     "metadata": {},
     "output_type": "execute_result"
    }
   ],
   "source": [
    "sum(simulate_lantern(counts, 256).values())"
   ]
  },
  {
   "cell_type": "code",
   "execution_count": null,
   "id": "79567af2",
   "metadata": {},
   "outputs": [],
   "source": []
  }
 ],
 "metadata": {
  "kernelspec": {
   "display_name": "Python [conda env:pulp] *",
   "language": "python",
   "name": "conda-env-pulp-py"
  },
  "language_info": {
   "codemirror_mode": {
    "name": "ipython",
    "version": 3
   },
   "file_extension": ".py",
   "mimetype": "text/x-python",
   "name": "python",
   "nbconvert_exporter": "python",
   "pygments_lexer": "ipython3",
   "version": "3.9.5"
  }
 },
 "nbformat": 4,
 "nbformat_minor": 5
}
