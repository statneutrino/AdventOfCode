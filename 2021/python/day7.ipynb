{
 "cells": [
  {
   "cell_type": "code",
   "execution_count": 1,
   "id": "bd1fca1d",
   "metadata": {},
   "outputs": [],
   "source": [
    "import numpy as np\n",
    "from scipy.optimize import linprog\n",
    "from scipy.optimize import minimize\n",
    "import math"
   ]
  },
  {
   "cell_type": "code",
   "execution_count": 2,
   "id": "fe652368",
   "metadata": {},
   "outputs": [],
   "source": [
    "with open(\"../data/input_7.txt\") as file:\n",
    "   crabs = list(map(int, file.read().split(',')))"
   ]
  },
  {
   "cell_type": "code",
   "execution_count": 3,
   "id": "5a5593c0",
   "metadata": {},
   "outputs": [],
   "source": [
    "x = np.array(crabs)"
   ]
  },
  {
   "cell_type": "code",
   "execution_count": 4,
   "id": "953328b4",
   "metadata": {},
   "outputs": [],
   "source": [
    "obj = np.array([0] + [1] * len(crabs))"
   ]
  },
  {
   "cell_type": "code",
   "execution_count": 5,
   "id": "cc49e7d5",
   "metadata": {},
   "outputs": [],
   "source": [
    "lhs_ineq = np.zeros((len(crabs)*2,len(crabs)+1), dtype = int)\n",
    "for i in range(len(crabs)):\n",
    "    lhs_ineq[i,0] = 1\n",
    "    lhs_ineq[i,i+1] = -1\n",
    "for i in range(len(crabs)):\n",
    "    lhs_ineq[i+len(crabs),0] = -1\n",
    "    lhs_ineq[i+len(crabs),i+1] = -1\n",
    "    \n",
    "rhs_ineq = np.concatenate([x, np.negative(x)])\n",
    "\n",
    "bnd = [(0, float(\"inf\"))] * (len(crabs) + 1)"
   ]
  },
  {
   "cell_type": "code",
   "execution_count": null,
   "id": "a250c440",
   "metadata": {},
   "outputs": [],
   "source": [
    "opt = linprog(c=obj, A_ub=lhs_ineq, b_ub=rhs_ineq, bounds=bnd, method=\"revised simplex\")\n",
    "opt"
   ]
  },
  {
   "cell_type": "code",
   "execution_count": 4,
   "id": "8f70b1ab",
   "metadata": {},
   "outputs": [],
   "source": [
    "# Part 2\n",
    "gauss_sum = np.vectorize(lambda x: (x * (x+1)//2))\n",
    "def obj_func(position):\n",
    "    return gauss_sum(abs(x-position)).sum()"
   ]
  },
  {
   "cell_type": "code",
   "execution_count": 5,
   "id": "b7173a0c",
   "metadata": {},
   "outputs": [
    {
     "data": {
      "text/plain": [
       " final_simplex: (array([[484.54157227],\n",
       "       [484.54147985]]), array([93397027., 93397027.]))\n",
       "           fun: 93397027.0\n",
       "       message: 'Optimization terminated successfully.'\n",
       "          nfev: 46\n",
       "           nit: 20\n",
       "        status: 0\n",
       "       success: True\n",
       "             x: array([484.54157227])"
      ]
     },
     "execution_count": 5,
     "metadata": {},
     "output_type": "execute_result"
    }
   ],
   "source": [
    "minimize(obj_func, x0=x.mean(), method=\"Nelder-Mead\")"
   ]
  },
  {
   "cell_type": "code",
   "execution_count": 6,
   "id": "81f4eb13",
   "metadata": {},
   "outputs": [
    {
     "name": "stdout",
     "output_type": "stream",
     "text": [
      "133877391\n",
      "93412261\n",
      "93407334\n",
      "93403408\n",
      "93400482\n",
      "93398557\n",
      "93397632\n",
      "93397707\n",
      "93398783\n",
      "93400859\n",
      "93403936\n"
     ]
    }
   ],
   "source": [
    "print(obj_func(200))\n",
    "print(obj_func(479))\n",
    "print(obj_func(480))\n",
    "print(obj_func(481))\n",
    "print(obj_func(482))\n",
    "print(obj_func(483))\n",
    "print(obj_func(484))\n",
    "print(obj_func(485))\n",
    "print(obj_func(486))\n",
    "print(obj_func(487))\n",
    "print(obj_func(488))"
   ]
  },
  {
   "cell_type": "code",
   "execution_count": null,
   "id": "bea1163d",
   "metadata": {},
   "outputs": [],
   "source": []
  }
 ],
 "metadata": {
  "kernelspec": {
   "display_name": "Python 3",
   "language": "python",
   "name": "python3"
  },
  "language_info": {
   "codemirror_mode": {
    "name": "ipython",
    "version": 3
   },
   "file_extension": ".py",
   "mimetype": "text/x-python",
   "name": "python",
   "nbconvert_exporter": "python",
   "pygments_lexer": "ipython3",
   "version": "3.9.5"
  }
 },
 "nbformat": 4,
 "nbformat_minor": 5
}
