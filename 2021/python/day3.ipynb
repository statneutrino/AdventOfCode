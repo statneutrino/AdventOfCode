{
 "cells": [
  {
   "cell_type": "code",
   "execution_count": 1,
   "id": "16f1e438",
   "metadata": {},
   "outputs": [],
   "source": [
    "from statistics import multimode\n",
    "\n",
    "with open(\"../data/input_3.txt\") as file:\n",
    "   report = file.read().splitlines()"
   ]
  },
  {
   "cell_type": "code",
   "execution_count": 2,
   "id": "84a60c83",
   "metadata": {},
   "outputs": [],
   "source": [
    "def binary_to_decimal(binary_string):\n",
    "    return sum([int(element) * 2**index for index, element in enumerate(binary_string[::-1])])"
   ]
  },
  {
   "cell_type": "code",
   "execution_count": 3,
   "id": "8e5f7b25",
   "metadata": {},
   "outputs": [],
   "source": [
    "def most_common(lst):\n",
    "    return max(set(lst), key=lst.count)"
   ]
  },
  {
   "cell_type": "code",
   "execution_count": 4,
   "id": "56c20be5",
   "metadata": {},
   "outputs": [],
   "source": [
    "def eval_gamma(report):\n",
    "    total_rows = len(report)\n",
    "    gamma_string = ''\n",
    "    for position in range(len(report[0])):\n",
    "        total_ones = 0\n",
    "        gamma_string += most_common([x[position] for x in report])\n",
    "    return(gamma_string)"
   ]
  },
  {
   "cell_type": "code",
   "execution_count": 5,
   "id": "3e9a41e1",
   "metadata": {},
   "outputs": [],
   "source": [
    "gamma_binary = eval_gamma(report)"
   ]
  },
  {
   "cell_type": "code",
   "execution_count": 6,
   "id": "7093410d",
   "metadata": {},
   "outputs": [],
   "source": [
    "def gamma_bin_to_epsilon(gamma_binary):\n",
    "    return ''.join(['1' if i == '0' else '0' for i in gamma_binary])"
   ]
  },
  {
   "cell_type": "code",
   "execution_count": 7,
   "id": "36388413",
   "metadata": {},
   "outputs": [],
   "source": [
    "epsilon_binary = gamma_bin_to_epsilon(gamma_binary)"
   ]
  },
  {
   "cell_type": "code",
   "execution_count": 8,
   "id": "30022b45",
   "metadata": {},
   "outputs": [
    {
     "data": {
      "text/plain": [
       "3903"
      ]
     },
     "execution_count": 8,
     "metadata": {},
     "output_type": "execute_result"
    }
   ],
   "source": [
    "binary_to_decimal(gamma_binary)"
   ]
  },
  {
   "cell_type": "code",
   "execution_count": 9,
   "id": "7a486ce2",
   "metadata": {},
   "outputs": [
    {
     "data": {
      "text/plain": [
       "192"
      ]
     },
     "execution_count": 9,
     "metadata": {},
     "output_type": "execute_result"
    }
   ],
   "source": [
    "binary_to_decimal(epsilon_binary)"
   ]
  },
  {
   "cell_type": "code",
   "execution_count": 10,
   "id": "e2e1250d",
   "metadata": {},
   "outputs": [
    {
     "data": {
      "text/plain": [
       "749376"
      ]
     },
     "execution_count": 10,
     "metadata": {},
     "output_type": "execute_result"
    }
   ],
   "source": [
    "3903*192"
   ]
  },
  {
   "cell_type": "code",
   "execution_count": 11,
   "id": "a18204a3",
   "metadata": {},
   "outputs": [
    {
     "data": {
      "text/plain": [
       "['1', '0']"
      ]
     },
     "execution_count": 11,
     "metadata": {},
     "output_type": "execute_result"
    }
   ],
   "source": [
    "x = ['2','1','0','8','1','0']\n",
    "multimode(x)"
   ]
  },
  {
   "cell_type": "code",
   "execution_count": 17,
   "id": "223029be",
   "metadata": {},
   "outputs": [],
   "source": [
    "def eval_oxygen(report):\n",
    "    total_rows = len(report)\n",
    "    for position in range(len(report[0])):\n",
    "        most_common_bit = multimode([x[position] for x in report])\n",
    "        bit_to_keep = most_common_bit[0] if len(most_common_bit) == 1 else '1'\n",
    "        report = [x for x in report if x[position] == bit_to_keep]\n",
    "        if len(report) == 1:\n",
    "            return(report[0])"
   ]
  },
  {
   "cell_type": "code",
   "execution_count": 18,
   "id": "18549a1e",
   "metadata": {},
   "outputs": [],
   "source": [
    "def eval_CO2(report):\n",
    "    total_rows = len(report)\n",
    "    for position in range(len(report[0])):\n",
    "        most_common_bit = multimode([x[position] for x in report])\n",
    "        bit_not_to_keep = most_common_bit[0] if len(most_common_bit) == 1 else '1'\n",
    "        report = [x for x in report if x[position] != bit_not_to_keep]\n",
    "        if len(report) == 1:\n",
    "            return(report[0])"
   ]
  },
  {
   "cell_type": "code",
   "execution_count": 19,
   "id": "6ba142ae",
   "metadata": {},
   "outputs": [],
   "source": [
    "oxygen_string = eval_oxygen(report)\n",
    "CO2_string = eval_CO2(report)"
   ]
  },
  {
   "cell_type": "code",
   "execution_count": 20,
   "id": "4ce9021b",
   "metadata": {},
   "outputs": [
    {
     "name": "stdout",
     "output_type": "stream",
     "text": [
      "3871\n",
      "613\n"
     ]
    }
   ],
   "source": [
    "print(binary_to_decimal(oxygen_string))\n",
    "print(binary_to_decimal(CO2_string))"
   ]
  },
  {
   "cell_type": "code",
   "execution_count": 21,
   "id": "c9cf1def",
   "metadata": {},
   "outputs": [
    {
     "data": {
      "text/plain": [
       "2372923"
      ]
     },
     "execution_count": 21,
     "metadata": {},
     "output_type": "execute_result"
    }
   ],
   "source": [
    "3871 * 613"
   ]
  },
  {
   "cell_type": "code",
   "execution_count": 2,
   "id": "c66a82a7",
   "metadata": {},
   "outputs": [],
   "source": [
    "from itertools import permutations"
   ]
  },
  {
   "cell_type": "code",
   "execution_count": 4,
   "id": "90712599",
   "metadata": {},
   "outputs": [
    {
     "data": {
      "text/plain": [
       "[(0, 1, 2), (0, 2, 1), (1, 0, 2), (1, 2, 0), (2, 0, 1), (2, 1, 0)]"
      ]
     },
     "execution_count": 4,
     "metadata": {},
     "output_type": "execute_result"
    }
   ],
   "source": [
    "list(permutations(range(3)))"
   ]
  },
  {
   "cell_type": "code",
   "execution_count": null,
   "id": "4935eec6",
   "metadata": {},
   "outputs": [],
   "source": []
  }
 ],
 "metadata": {
  "kernelspec": {
   "display_name": "Python 3",
   "language": "python",
   "name": "python3"
  },
  "language_info": {
   "codemirror_mode": {
    "name": "ipython",
    "version": 3
   },
   "file_extension": ".py",
   "mimetype": "text/x-python",
   "name": "python",
   "nbconvert_exporter": "python",
   "pygments_lexer": "ipython3",
   "version": "3.9.5"
  }
 },
 "nbformat": 4,
 "nbformat_minor": 5
}
