{
 "cells": [
  {
   "cell_type": "code",
   "execution_count": 1,
   "id": "6886dba1",
   "metadata": {},
   "outputs": [],
   "source": [
    "import numpy as np\n",
    "# 0 = 6 segmnets\n",
    "# 1 = 2 segmnets\n",
    "# 2 = 5 segmnets\n",
    "# 3 = 5 segmnets\n",
    "# 4 = 4 segmnets\n",
    "# 5 = 5 segmnets\n",
    "# 6 = 6 segmnets\n",
    "# 7 = 3 segmnets\n",
    "# 8 = 7 segmnets\n",
    "# 9 = 6 segmnets"
   ]
  },
  {
   "cell_type": "code",
   "execution_count": 2,
   "id": "17910f29",
   "metadata": {},
   "outputs": [],
   "source": [
    "# Read file as list\n",
    "with open(\"../data/input_8.txt\") as file:\n",
    "   segments = [(x.split(' | ')[0], x.split(' | ')[1]) for x in file.read().splitlines()]"
   ]
  },
  {
   "cell_type": "code",
   "execution_count": 3,
   "id": "593a9f0e",
   "metadata": {},
   "outputs": [
    {
     "data": {
      "text/plain": [
       "{frozenset({'a', 'd'}): 1,\n",
       " frozenset({'a', 'b', 'd', 'f'}): 4,\n",
       " frozenset({'a', 'c', 'd'}): 7,\n",
       " frozenset({'a', 'b', 'c', 'd', 'e', 'f', 'g'}): 8}"
      ]
     },
     "execution_count": 3,
     "metadata": {},
     "output_type": "execute_result"
    }
   ],
   "source": [
    "def determine_code(pattern):\n",
    "    pattern = pattern.split(' ')\n",
    "    one_code = frozenset([x for x in pattern[list(map(len, pattern)).index(2)]])\n",
    "    four_code = frozenset([x for x in pattern[list(map(len, pattern)).index(4)]])\n",
    "    seven_code = frozenset([x for x in pattern[list(map(len, pattern)).index(3)]])\n",
    "    eight_code = frozenset([x for x in pattern[list(map(len, pattern)).index(7)]])\n",
    "    return {one_code:1, four_code:4, seven_code:7, eight_code:8}\n",
    "\n",
    "determine_code(segments[0][0])"
   ]
  },
  {
   "cell_type": "code",
   "execution_count": 4,
   "id": "cc59cd75",
   "metadata": {},
   "outputs": [],
   "source": [
    "counter = {1:0, 4:0, 7:0, 8:0}\n",
    "for i in range(len(segments)):\n",
    "    four_digit = list(map(lambda x: frozenset([i for i in x]), segments[i][1].split()))\n",
    "    code_dict = determine_code(segments[i][0])\n",
    "    for j in map(code_dict.get, four_digit, four_digit):\n",
    "        for k in counter.keys():\n",
    "            if j == k:\n",
    "                counter[j] +=1\n"
   ]
  },
  {
   "cell_type": "code",
   "execution_count": 5,
   "id": "fcd43b46",
   "metadata": {},
   "outputs": [
    {
     "data": {
      "text/plain": [
       "539"
      ]
     },
     "execution_count": 5,
     "metadata": {},
     "output_type": "execute_result"
    }
   ],
   "source": [
    "sum(counter.values())"
   ]
  },
  {
   "cell_type": "code",
   "execution_count": 6,
   "id": "379cf589",
   "metadata": {},
   "outputs": [
    {
     "data": {
      "text/plain": [
       "{frozenset({'b', 'c', 'd', 'e', 'f', 'g'}): 0,\n",
       " frozenset({'d', 'f'}): 1,\n",
       " frozenset({'a', 'b', 'c', 'd', 'g'}): 2,\n",
       " frozenset({'a', 'b', 'c', 'd', 'f'}): 3,\n",
       " frozenset({'a', 'd', 'e', 'f'}): 4,\n",
       " frozenset({'a', 'b', 'c', 'e', 'f'}): 5,\n",
       " frozenset({'a', 'b', 'c', 'e', 'f', 'g'}): 6,\n",
       " frozenset({'b', 'd', 'f'}): 7,\n",
       " frozenset({'a', 'b', 'c', 'd', 'e', 'f', 'g'}): 8,\n",
       " frozenset({'a', 'b', 'c', 'd', 'e', 'f'}): 9}"
      ]
     },
     "execution_count": 6,
     "metadata": {},
     "output_type": "execute_result"
    }
   ],
   "source": [
    "# Part 2\n",
    "def determine_full_code(pattern):\n",
    "    pattern = pattern.split(' ')\n",
    "    \n",
    "    # Determine 1, 4, 7, 8\n",
    "    one_code = frozenset([x for x in pattern[list(map(len, pattern)).index(2)]])\n",
    "    four_code = frozenset([x for x in pattern[list(map(len, pattern)).index(4)]])\n",
    "    seven_code = frozenset([x for x in pattern[list(map(len, pattern)).index(3)]])\n",
    "    eight_code = frozenset([x for x in pattern[list(map(len, pattern)).index(7)]])\n",
    "    \n",
    "    # Determine 5-character (2, 3, 5)\n",
    "    char_5 = [set(x) for x in filter(lambda x: len(x)==5, pattern)]\n",
    "    # Determine 6-character (0, 6, 9)\n",
    "    char_6 = [set(x) for x in filter(lambda x: len(x)==6, pattern)]\n",
    "    \n",
    "    # Determine top \n",
    "    top = seven_code - one_code\n",
    "    \n",
    "    # Determine bottom and left_lower\n",
    "    left_corner = set(eight_code - four_code.union({top}))\n",
    "    bottom = left_corner.copy()\n",
    "    for i in char_5:\n",
    "        bottom -= bottom - i\n",
    "    left_lower = left_corner - bottom\n",
    "    \n",
    "    # Determine 2, 3, 5\n",
    "    two_code = frozenset([x for x in char_5 if not left_lower.intersection(x) == set()][0])\n",
    "    char_5 = [x for x in char_5 if left_lower.intersection(x) == set()]\n",
    "    if char_5[0].intersection(one_code) == one_code:\n",
    "        three_code, five_code = (frozenset(char_5[0]), frozenset(char_5[1]))\n",
    "    else:\n",
    "        three_code, five_code = (frozenset(char_5[1]), frozenset(char_5[0]))\n",
    "        \n",
    "    #Determine 0, 6, 9    \n",
    "    nine_code = frozenset([x for x in char_6 if left_lower.intersection(x) == set()][0])\n",
    "    char_6 = [x for x in char_6 if not left_lower.intersection(x) == set()]\n",
    "    if len(char_6[1].intersection(seven_code)) == 2:\n",
    "        zero_code, six_code = (frozenset(char_6[0]), frozenset(char_6[1]))\n",
    "    else:\n",
    "        zero_code, six_code = (frozenset(char_6[1]), frozenset(char_6[0]))\n",
    "    return {zero_code:0,\n",
    "            one_code:1, \n",
    "            two_code:2,\n",
    "            three_code:3,\n",
    "            four_code:4,\n",
    "            five_code:5,\n",
    "            six_code:6,\n",
    "            seven_code:7, \n",
    "            eight_code:8,\n",
    "            nine_code:9\n",
    "    }\n",
    "\n",
    "determine_full_code(segments[3][0])"
   ]
  },
  {
   "cell_type": "code",
   "execution_count": 14,
   "id": "1d103fdf",
   "metadata": {},
   "outputs": [
    {
     "data": {
      "text/plain": [
       "5.296013099999982"
      ]
     },
     "execution_count": 14,
     "metadata": {},
     "output_type": "execute_result"
    }
   ],
   "source": [
    "from timeit import timeit\n",
    "def find_total():\n",
    "    total = 0\n",
    "    for i in range(len(segments)):\n",
    "        four_digit = list(map(lambda x: frozenset([i for i in x]), segments[i][1].split()))\n",
    "        code_dict = determine_full_code(segments[i][0])\n",
    "        value = int(''.join(map(lambda x: str(code_dict.get(x)), four_digit))) \n",
    "        total += value\n",
    "\n",
    "    return total\n",
    "timeit(lambda: find_total(),number=1000)"
   ]
  },
  {
   "cell_type": "code",
   "execution_count": 16,
   "id": "5223dd33",
   "metadata": {},
   "outputs": [
    {
     "data": {
      "text/plain": [
       "0.00529"
      ]
     },
     "execution_count": 16,
     "metadata": {},
     "output_type": "execute_result"
    }
   ],
   "source": [
    "5.29/1000"
   ]
  },
  {
   "cell_type": "code",
   "execution_count": null,
   "id": "c34ac3ed",
   "metadata": {},
   "outputs": [],
   "source": []
  },
  {
   "cell_type": "code",
   "execution_count": null,
   "id": "5bc47a14",
   "metadata": {},
   "outputs": [],
   "source": []
  },
  {
   "cell_type": "code",
   "execution_count": null,
   "id": "9ce23bcb",
   "metadata": {},
   "outputs": [],
   "source": []
  }
 ],
 "metadata": {
  "kernelspec": {
   "display_name": "Python 3",
   "language": "python",
   "name": "python3"
  },
  "language_info": {
   "codemirror_mode": {
    "name": "ipython",
    "version": 3
   },
   "file_extension": ".py",
   "mimetype": "text/x-python",
   "name": "python",
   "nbconvert_exporter": "python",
   "pygments_lexer": "ipython3",
   "version": "3.9.5"
  }
 },
 "nbformat": 4,
 "nbformat_minor": 5
}
