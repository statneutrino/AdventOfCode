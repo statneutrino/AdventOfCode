{
 "cells": [
  {
   "cell_type": "code",
   "execution_count": 148,
   "id": "dbcb5ba8",
   "metadata": {},
   "outputs": [],
   "source": [
    "import numpy as np\n",
    "# Read file as list\n",
    "with open(\"../data/input_4.txt\") as file:\n",
    "   bingo = file.read().split('\\n\\n')"
   ]
  },
  {
   "cell_type": "code",
   "execution_count": 149,
   "id": "b01aed1d",
   "metadata": {},
   "outputs": [],
   "source": [
    "numbers_called = bingo.pop(0).split(',')\n",
    "numbers_called = list(map(int, numbers_called))"
   ]
  },
  {
   "cell_type": "code",
   "execution_count": 150,
   "id": "0418aa24",
   "metadata": {},
   "outputs": [],
   "source": [
    "bingo_array = np.zeros((len(bingo),5,5), dtype=int)"
   ]
  },
  {
   "cell_type": "code",
   "execution_count": 151,
   "id": "5c0c6de2",
   "metadata": {},
   "outputs": [],
   "source": [
    "bingo_array\n",
    "for i in range(len(bingo)):\n",
    "    board = np.fromstring(bingo[i], dtype=int, count=- 1, sep=' ').reshape((5, 5))\n",
    "    bingo_array[i,:,:] = board"
   ]
  },
  {
   "cell_type": "code",
   "execution_count": 152,
   "id": "9888e4e0",
   "metadata": {},
   "outputs": [],
   "source": [
    "def tick_number(bingo_array, number):\n",
    "    bingo_array[bingo_array == number] = 0\n",
    "    return(bingo_array)"
   ]
  },
  {
   "cell_type": "code",
   "execution_count": 153,
   "id": "93aa82b7",
   "metadata": {},
   "outputs": [],
   "source": [
    "def play_bingo(bingo_array, numbers_called):\n",
    "    for n in numbers_called:\n",
    "        bingo_array = tick_number(bingo_array, n)\n",
    "        for i in range(bingo_array.shape[0]):\n",
    "            column_sum = bingo_array[i,:,:].sum(axis=0)\n",
    "            row_sum = bingo_array[i,:,:].sum(axis=1)\n",
    "            if 0 in row_sum or 0 in column_sum:\n",
    "                return bingo_array[i,:,:], n"
   ]
  },
  {
   "cell_type": "code",
   "execution_count": 154,
   "id": "d7103653",
   "metadata": {},
   "outputs": [],
   "source": [
    "winner, final_number = play_bingo(bingo_array, numbers_called)"
   ]
  },
  {
   "cell_type": "code",
   "execution_count": 155,
   "id": "e54df926",
   "metadata": {},
   "outputs": [
    {
     "data": {
      "text/plain": [
       "41668"
      ]
     },
     "execution_count": 155,
     "metadata": {},
     "output_type": "execute_result"
    }
   ],
   "source": [
    "winner.sum() * final_number"
   ]
  },
  {
   "cell_type": "code",
   "execution_count": 157,
   "id": "66016411",
   "metadata": {},
   "outputs": [],
   "source": [
    "# Part 2\n",
    "def play_bingo_to_lose(bingo_array, numbers_called):\n",
    "    for n in numbers_called:\n",
    "        bingo_array = tick_number(bingo_array, n)\n",
    "        winning_boards = []\n",
    "        for i in range(bingo_array.shape[0]):\n",
    "            column_sum = bingo_array[i,:,:].sum(axis=0)\n",
    "            row_sum = bingo_array[i,:,:].sum(axis=1)\n",
    "            if 0 in row_sum or 0 in column_sum:\n",
    "                if bingo_array.shape == (1, 5,5):\n",
    "                    return bingo_array, n\n",
    "                else:\n",
    "                    winning_boards.append(i) \n",
    "        bingo_array = np.delete(bingo_array, winning_boards, axis=0)\n"
   ]
  },
  {
   "cell_type": "code",
   "execution_count": 158,
   "id": "d89fb0fd",
   "metadata": {},
   "outputs": [
    {
     "data": {
      "text/plain": [
       "(array([[[ 0,  0,  0,  0,  9],\n",
       "         [ 0, 81,  0,  0,  0],\n",
       "         [58, 25,  0,  0,  0],\n",
       "         [ 0,  0, 85,  0, 14],\n",
       "         [ 0,  0, 66,  0,  0]]]),\n",
       " 31)"
      ]
     },
     "execution_count": 158,
     "metadata": {},
     "output_type": "execute_result"
    }
   ],
   "source": [
    "play_bingo_to_lose(bingo_array, numbers_called)"
   ]
  },
  {
   "cell_type": "code",
   "execution_count": 159,
   "id": "eba8cdc6",
   "metadata": {},
   "outputs": [],
   "source": [
    "loser, final_number = play_bingo_to_lose(bingo_array, numbers_called)"
   ]
  },
  {
   "cell_type": "code",
   "execution_count": 160,
   "id": "0c0ab110",
   "metadata": {},
   "outputs": [
    {
     "data": {
      "text/plain": [
       "10478"
      ]
     },
     "execution_count": 160,
     "metadata": {},
     "output_type": "execute_result"
    }
   ],
   "source": [
    "loser.sum() * final_number"
   ]
  },
  {
   "cell_type": "code",
   "execution_count": 146,
   "id": "0f7c7eba",
   "metadata": {},
   "outputs": [
    {
     "data": {
      "text/plain": [
       "369"
      ]
     },
     "execution_count": 146,
     "metadata": {},
     "output_type": "execute_result"
    }
   ],
   "source": [
    "loser.sum()"
   ]
  },
  {
   "cell_type": "code",
   "execution_count": 147,
   "id": "914e1bc3",
   "metadata": {},
   "outputs": [
    {
     "data": {
      "text/plain": [
       "12177"
      ]
     },
     "execution_count": 147,
     "metadata": {},
     "output_type": "execute_result"
    }
   ],
   "source": [
    "369*33"
   ]
  },
  {
   "cell_type": "code",
   "execution_count": null,
   "id": "c3ad3202",
   "metadata": {},
   "outputs": [],
   "source": []
  }
 ],
 "metadata": {
  "kernelspec": {
   "display_name": "Python 3",
   "language": "python",
   "name": "python3"
  },
  "language_info": {
   "codemirror_mode": {
    "name": "ipython",
    "version": 3
   },
   "file_extension": ".py",
   "mimetype": "text/x-python",
   "name": "python",
   "nbconvert_exporter": "python",
   "pygments_lexer": "ipython3",
   "version": "3.9.5"
  }
 },
 "nbformat": 4,
 "nbformat_minor": 5
}
